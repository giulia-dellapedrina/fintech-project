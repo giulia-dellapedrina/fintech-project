{
 "cells": [
  {
   "cell_type": "code",
   "execution_count": 1,
   "id": "7ffaef5d",
   "metadata": {},
   "outputs": [],
   "source": [
    "import json"
   ]
  },
  {
   "cell_type": "code",
   "execution_count": 3,
   "id": "790a3473",
   "metadata": {},
   "outputs": [],
   "source": [
    "def check_input(file):\n",
    "\n",
    "    if file.endswith('.txt'):\n",
    "        d = {}\n",
    "        with open(file) as f:\n",
    "            for line in f:\n",
    "                (key, val) = line.split()\n",
    "                d[key] = val\n",
    "        return d\n",
    "    \n",
    "    elif file.endswith('.json'):\n",
    "        with open(file) as f:\n",
    "            d = json.load(f)\n",
    "        return d\n",
    "    \n",
    "    else:\n",
    "        print(file, \"has an unknown file format\")\n",
    "\n",
    "        \n",
    "def define_groups(d):\n",
    "    \n",
    "    teams = set([key.split('_')[0] for key in d.keys()])\n",
    "    voters = set([key.split('_')[1] for key in d.keys()])\n",
    "    print(\"There are\", len(teams), \"candidates and\", len(voters), \"applicants\")\n",
    "    return teams, voters\n",
    "\n",
    "def sort_dictionary(d):\n",
    "    \n",
    "    sorted_dict = dict(sorted(data.items(), key=lambda item: item[1], reverse=True))     \n",
    "    return sorted_dict\n",
    "\n",
    "def easy_assignment(data, team_limit):\n",
    "    '''returns groups based on sum of preferences and selects alphabthical order if score is equal'''\n",
    "\n",
    "    sorted_dict = sort_dictionary(data)\n",
    "    teams, voters = define_groups(data)\n",
    "    assignments = {k: [] for k in teams}\n",
    "    assigned = []\n",
    "    for key, value in sorted_dict.items():\n",
    "        team = key.split('_')[0]\n",
    "        voter = key.split('_')[1]\n",
    "\n",
    "        # Check if voter has already been assigned\n",
    "        if voter in assigned: \n",
    "            print(voter, \"has already been assigned to a team\")\n",
    "\n",
    "        # Check if team capacity has been reached\n",
    "        elif len(assignments[team]) >= team_limit:\n",
    "            print(team, \"has reached maximum capacity\")\n",
    "\n",
    "        # Assign voter to the team\n",
    "        else:\n",
    "            assignments[team].append(voter)\n",
    "            assigned.append(voter)\n",
    "\n",
    "    \n",
    "    return assignments"
   ]
  },
  {
   "cell_type": "code",
   "execution_count": 7,
   "id": "e089564a",
   "metadata": {},
   "outputs": [
    {
     "name": "stdout",
     "output_type": "stream",
     "text": [
      "There are 3 candidates and 5 applicants\n",
      "2 has already been assigned to a team\n",
      "2 has already been assigned to a team\n",
      "3 has already been assigned to a team\n",
      "a has reached maximum capacity\n",
      "3 has already been assigned to a team\n",
      "4 has already been assigned to a team\n",
      "1 has already been assigned to a team\n",
      "4 has already been assigned to a team\n",
      "1 has already been assigned to a team\n",
      "5 has already been assigned to a team\n"
     ]
    },
    {
     "data": {
      "text/plain": [
       "{'c': ['3'], 'a': ['4', '2', '1'], 'b': ['5']}"
      ]
     },
     "execution_count": 7,
     "metadata": {},
     "output_type": "execute_result"
    }
   ],
   "source": [
    "data = check_input(\"results.txt\")\n",
    "easy_assignment(data, team_limit=3)"
   ]
  },
  {
   "cell_type": "code",
   "execution_count": null,
   "id": "05ccdf73",
   "metadata": {},
   "outputs": [],
   "source": [
    "def normal_assignment():\n",
    "    \"\"\" returns groups based on sum of preferences and prioritizes candidates when equal. If equal again then random \"\"\"\n",
    "    \n",
    "    \n",
    "    return "
   ]
  },
  {
   "cell_type": "code",
   "execution_count": null,
   "id": "cfec017a",
   "metadata": {},
   "outputs": [],
   "source": [
    "def complex_assignment():\n",
    "    \"\"\" returns groups based overall satisfaction optimization \"\"\"\n",
    "    \n",
    "    \n",
    "    return "
   ]
  }
 ],
 "metadata": {
  "kernelspec": {
   "display_name": "Python 3",
   "language": "python",
   "name": "python3"
  },
  "language_info": {
   "codemirror_mode": {
    "name": "ipython",
    "version": 3
   },
   "file_extension": ".py",
   "mimetype": "text/x-python",
   "name": "python",
   "nbconvert_exporter": "python",
   "pygments_lexer": "ipython3",
   "version": "3.8.8"
  }
 },
 "nbformat": 4,
 "nbformat_minor": 5
}
