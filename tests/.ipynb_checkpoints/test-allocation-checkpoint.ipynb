{
 "cells": [
  {
   "cell_type": "code",
   "execution_count": 61,
   "id": "7ffaef5d",
   "metadata": {},
   "outputs": [],
   "source": [
    "import json\n",
    "import pandas as pd"
   ]
  },
  {
   "cell_type": "code",
   "execution_count": 106,
   "id": "790a3473",
   "metadata": {},
   "outputs": [],
   "source": [
    "def define_groups(d):\n",
    "    \n",
    "    voters = set([key[0] for key in d.keys()])\n",
    "    teams = set([key[1] for key in d.keys()])\n",
    "    print(\"There are\", len(teams), \"candidates and\", len(voters), \"applicants\")\n",
    "    return teams, voters\n",
    "\n",
    "\n",
    "def sort_dictionary(d):\n",
    "    \n",
    "    sorted_dict = dict(sorted(data.items(), key=lambda item: item[1], reverse=True))     \n",
    "    return sorted_dict\n",
    "\n",
    "def split_names(string, separator):\n",
    "    \n",
    "    if len(string.split(separator))>2:\n",
    "        print('Invalid assignment due to name glitch')\n",
    "        pass  \n",
    "    else:\n",
    "        a = string.split(separator)[0]\n",
    "        b = string.split(separator)[1]\n",
    "    \n",
    "    return a, b\n",
    "\n",
    "    \n",
    "def organize_input_dict(d):    \n",
    "    \n",
    "    final_dict = {} \n",
    "    for key, value in d.items():\n",
    "        a, b = split_names(key, '-')\n",
    "        new_k = (a, b)\n",
    "        \n",
    "        # Extract Scorings\n",
    "        score_a = value[str(a)+str(2)+str(b)]\n",
    "        score_b = value[str(b)+str(2)+str(a)]\n",
    "        score_sum = score_a + score_b\n",
    "        \n",
    "        # Assign Scorings to a list for the given tuple in the final dict\n",
    "        final_dict[new_k] = [score_a, score_b, score_sum]\n",
    "        \n",
    "    df = pd.DataFrame.from_dict(final_dict, orient='index',\n",
    "                       columns=['voter2team', 'team2voter', 'sum'])\n",
    "    \n",
    "    return final_dict, final_df\n",
    "    \n",
    "\n",
    "def run_assignment(data, team_limit, assignment_method):\n",
    "    '''returns groups based on sum of preferences and selects alphabthical order if score is equal'''\n",
    "\n",
    "    final_d, final_df = organize_input_dict(data)\n",
    "    \n",
    "    # Define assignment method\n",
    "    if assignment_method == 'simple':\n",
    "        sorted_df = final_df.sort_values(by=['sum'], ascending=False)\n",
    "    elif assignment_method == 'team_priority':\n",
    "        sorted_df = final_df.sort_values(by=['sum', 'team2voter'], ascending=False)\n",
    "    elif assignment_method == 'voter_priority':\n",
    "        sorted_df = final_df.sort_values(by=['sum', 'voter2team'], ascending=False)\n",
    "    else:\n",
    "        print('Assignment method not given or not mapped!')\n",
    "    \n",
    "    sorted_dict = sorted_df.to_dict('index')\n",
    "    \n",
    "    teams, voters = define_groups(final_d)\n",
    "    assignments = {k: [] for k in teams}\n",
    "    assigned = []\n",
    "    for key, value in sorted_dict.items():\n",
    "        team = key[1]\n",
    "        voter = key[0]\n",
    "\n",
    "        # Check if voter has already been assigned\n",
    "        if voter in assigned: \n",
    "            print(voter, \"has already been assigned to a team\")\n",
    "\n",
    "        # Check if team capacity has been reached\n",
    "        elif len(assignments[team]) >= team_limit:\n",
    "            print(team, \"has reached maximum capacity\")\n",
    "\n",
    "        # Assign voter to the team\n",
    "        else:\n",
    "            assignments[team].append(voter)\n",
    "            assigned.append(voter)\n",
    "\n",
    "    \n",
    "    return assignments\n"
   ]
  },
  {
   "cell_type": "code",
   "execution_count": 108,
   "id": "e089564a",
   "metadata": {},
   "outputs": [
    {
     "name": "stdout",
     "output_type": "stream",
     "text": [
      "There are 3 candidates and 4 applicants\n",
      "John has already been assigned to a team\n",
      "Sam has already been assigned to a team\n",
      "Tom has already been assigned to a team\n"
     ]
    },
    {
     "data": {
      "text/plain": [
       "{'Inter': [], 'Milan': ['John', 'Sam'], 'ManCity': ['Tom', 'Bob']}"
      ]
     },
     "execution_count": 108,
     "metadata": {},
     "output_type": "execute_result"
    }
   ],
   "source": [
    "data = check_input(\"results.json\")\n",
    "run_assignment(data, team_limit = 5, assignment_method = 'simple')"
   ]
  }
 ],
 "metadata": {
  "kernelspec": {
   "display_name": "Python 3",
   "language": "python",
   "name": "python3"
  },
  "language_info": {
   "codemirror_mode": {
    "name": "ipython",
    "version": 3
   },
   "file_extension": ".py",
   "mimetype": "text/x-python",
   "name": "python",
   "nbconvert_exporter": "python",
   "pygments_lexer": "ipython3",
   "version": "3.8.8"
  }
 },
 "nbformat": 4,
 "nbformat_minor": 5
}
