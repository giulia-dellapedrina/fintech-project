{
 "cells": [
  {
   "cell_type": "code",
   "execution_count": 2,
   "id": "ddfb7d80",
   "metadata": {},
   "outputs": [],
   "source": [
    "results = [['a-proj1', 4], ['a-proj2', 3], ['a-proj3', 4], ['b-proj1', 2], ['b-proj2', 0], ['b-proj3', 0], ['c-proj1', 3], ['c-proj2', 0], ['c-proj3', 0], ['d-proj1', 4], ['d-proj2', 0], ['d-proj3', 0], ['e-proj1', 5], ['e-proj2', 0], ['e-proj3', 0]]"
   ]
  },
  {
   "cell_type": "code",
   "execution_count": 3,
   "id": "0a97613e",
   "metadata": {},
   "outputs": [
    {
     "data": {
      "text/plain": [
       "[['a-proj1', 4],\n",
       " ['a-proj2', 3],\n",
       " ['a-proj3', 4],\n",
       " ['b-proj1', 2],\n",
       " ['b-proj2', 0],\n",
       " ['b-proj3', 0],\n",
       " ['c-proj1', 3],\n",
       " ['c-proj2', 0],\n",
       " ['c-proj3', 0],\n",
       " ['d-proj1', 4],\n",
       " ['d-proj2', 0],\n",
       " ['d-proj3', 0],\n",
       " ['e-proj1', 5],\n",
       " ['e-proj2', 0],\n",
       " ['e-proj3', 0]]"
      ]
     },
     "execution_count": 3,
     "metadata": {},
     "output_type": "execute_result"
    }
   ],
   "source": [
    "results"
   ]
  },
  {
   "cell_type": "code",
   "execution_count": 33,
   "id": "790a3473",
   "metadata": {},
   "outputs": [],
   "source": [
    "def define_groups(l, team_limit):\n",
    "    \n",
    "    teams = set([l[i][0].split('-')[1] for i in range(len(l))])\n",
    "    voters = set([l[i][0].split('-')[0] for i in range(len(l))])\n",
    "    print(\"There are\", len(teams), \"candidates and\", len(voters), \"applicants\")\n",
    "    l.sort(key = lambda x: x[1], reverse = True)\n",
    "    print(l)\n",
    "    teams_allocation = {k: [[],[]] for k in teams}\n",
    "    print(teams_allocation)\n",
    "    assigned = []\n",
    "    \n",
    "    for item in range(len(l)):\n",
    "        \n",
    "        team = l[item][0].split('-')[1]\n",
    "        voter = l[item][0].split('-')[0]\n",
    "        \n",
    "        # Check if voter has already been assigned\n",
    "        if voter in assigned: \n",
    "            print(voter, \"has already been assigned to a team\")\n",
    "\n",
    "        # Check if team capacity has been reached\n",
    "        elif len(teams_allocation[team][0]) >= team_limit:\n",
    "            print(team, \"has reached maximum capacity\")\n",
    "\n",
    "        # Assign voter to the team\n",
    "        else:\n",
    "            teams_allocation[team][0].append(voter)\n",
    "            assigned.append(voter)\n",
    "            teams_allocation[team][1] = len(teams_allocation[team][0])\n",
    "    \n",
    "   \n",
    "    teams_allocation_list = list(map(list, teams_allocation.items()))\n",
    "    return teams, voters, teams_allocation_list\n"
   ]
  },
  {
   "cell_type": "code",
   "execution_count": 34,
   "id": "8d6b712a",
   "metadata": {},
   "outputs": [
    {
     "name": "stdout",
     "output_type": "stream",
     "text": [
      "There are 3 candidates and 5 applicants\n",
      "[['e-proj1', 5], ['a-proj1', 4], ['a-proj3', 4], ['d-proj1', 4], ['a-proj2', 3], ['c-proj1', 3], ['b-proj1', 2], ['b-proj2', 0], ['b-proj3', 0], ['c-proj2', 0], ['c-proj3', 0], ['d-proj2', 0], ['d-proj3', 0], ['e-proj2', 0], ['e-proj3', 0]]\n",
      "{'proj2': [[], []], 'proj3': [[], []], 'proj1': [[], []]}\n",
      "a has already been assigned to a team\n",
      "proj1 has reached maximum capacity\n",
      "a has already been assigned to a team\n",
      "proj1 has reached maximum capacity\n",
      "proj1 has reached maximum capacity\n",
      "b has already been assigned to a team\n",
      "c has already been assigned to a team\n",
      "proj2 has reached maximum capacity\n",
      "e has already been assigned to a team\n",
      "e has already been assigned to a team\n"
     ]
    },
    {
     "data": {
      "text/plain": [
       "({'proj1', 'proj2', 'proj3'},\n",
       " {'a', 'b', 'c', 'd', 'e'},\n",
       " [['proj2', [['b', 'c'], 2]],\n",
       "  ['proj3', [['d'], 1]],\n",
       "  ['proj1', [['e', 'a'], 2]]])"
      ]
     },
     "execution_count": 34,
     "metadata": {},
     "output_type": "execute_result"
    }
   ],
   "source": [
    "define_groups(results, 2)"
   ]
  },
  {
   "cell_type": "code",
   "execution_count": null,
   "id": "dfd4d2f1",
   "metadata": {},
   "outputs": [],
   "source": []
  },
  {
   "cell_type": "code",
   "execution_count": null,
   "id": "77d02530",
   "metadata": {},
   "outputs": [],
   "source": []
  }
 ],
 "metadata": {
  "kernelspec": {
   "display_name": "Python 3",
   "language": "python",
   "name": "python3"
  },
  "language_info": {
   "codemirror_mode": {
    "name": "ipython",
    "version": 3
   },
   "file_extension": ".py",
   "mimetype": "text/x-python",
   "name": "python",
   "nbconvert_exporter": "python",
   "pygments_lexer": "ipython3",
   "version": "3.8.8"
  }
 },
 "nbformat": 4,
 "nbformat_minor": 5
}
