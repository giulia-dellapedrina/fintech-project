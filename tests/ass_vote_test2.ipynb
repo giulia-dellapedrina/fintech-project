{
 "cells": [
  {
   "cell_type": "code",
   "execution_count": 152,
   "metadata": {},
   "outputs": [],
   "source": [
    "import json\n",
    "from web3 import Web3\n",
    "import time"
   ]
  },
  {
   "cell_type": "code",
   "execution_count": 153,
   "metadata": {},
   "outputs": [],
   "source": [
    "w3=Web3(Web3.HTTPProvider(\"HTTP://127.0.0.1:7545\"))"
   ]
  },
  {
   "cell_type": "code",
   "execution_count": 154,
   "metadata": {},
   "outputs": [
    {
     "data": {
      "text/plain": [
       "True"
      ]
     },
     "execution_count": 154,
     "metadata": {},
     "output_type": "execute_result"
    }
   ],
   "source": [
    "w3.isConnected()"
   ]
  },
  {
   "cell_type": "code",
   "execution_count": 155,
   "metadata": {},
   "outputs": [],
   "source": [
    "with open('abi2.json','r') as f:\n",
    "    abi=json.load(f)\n",
    "sorting_contract=w3.eth.contract(address='0xB1cE91D39Bb3DC71B2D70b72Ba65Ccf1cF9b8FC3',\n",
    "                              abi=abi)"
   ]
  },
  {
   "cell_type": "code",
   "execution_count": 156,
   "metadata": {},
   "outputs": [
    {
     "data": {
      "text/plain": [
       "'0x4C0bD87944A4348cd1bE53C39ae193093861E925'"
      ]
     },
     "execution_count": 156,
     "metadata": {},
     "output_type": "execute_result"
    }
   ],
   "source": [
    "sorting_contract.functions.chairperson().call()"
   ]
  },
  {
   "cell_type": "code",
   "execution_count": 157,
   "metadata": {},
   "outputs": [],
   "source": [
    "#give right to voters\n",
    "name_list=['xiaohu','dahua','dakun','alex','mofan']\n",
    "for i in range(4,9):\n",
    "    sorting_contract.functions.Give_right_to_voters(w3.eth.accounts[i],name_list[i-4]).\\\n",
    "    transact(transaction={'from':w3.eth.accounts[0]})"
   ]
  },
  {
   "cell_type": "code",
   "execution_count": 158,
   "metadata": {},
   "outputs": [],
   "source": [
    "num_voters=sorting_contract.functions.num_voters().call()\n",
    "voter_addrs=[sorting_contract.functions.Valid_voter_address(i).call() for i in range(num_voters)]"
   ]
  },
  {
   "cell_type": "code",
   "execution_count": 159,
   "metadata": {},
   "outputs": [
    {
     "data": {
      "text/plain": [
       "['0xbBC31396E88F95e9574fB40d0785A23ab6e03f66',\n",
       " '0x1E3e306c7b76a713D22C1A4B9150Ac35832AAF65',\n",
       " '0xf44C692A4F4EB41f37f90cC5Dd86342c58373976',\n",
       " '0xBac8c86b760F3f5f93B390DF02BCCB824E42B14D',\n",
       " '0x75df429815548148BD989B946Ca2c9AA1fd36aE0']"
      ]
     },
     "execution_count": 159,
     "metadata": {},
     "output_type": "execute_result"
    }
   ],
   "source": [
    "voter_addrs"
   ]
  },
  {
   "cell_type": "code",
   "execution_count": 160,
   "metadata": {},
   "outputs": [],
   "source": [
    "voter_names=[sorting_contract.functions.voters(addr).call()[2] for addr in voter_addrs]"
   ]
  },
  {
   "cell_type": "code",
   "execution_count": 161,
   "metadata": {},
   "outputs": [
    {
     "data": {
      "text/plain": [
       "['xiaohu', 'dahua', 'dakun', 'alex', 'mofan']"
      ]
     },
     "execution_count": 161,
     "metadata": {},
     "output_type": "execute_result"
    }
   ],
   "source": [
    "voter_names"
   ]
  },
  {
   "cell_type": "code",
   "execution_count": 162,
   "metadata": {},
   "outputs": [],
   "source": [
    "valid_voters=[]\n",
    "for addr in voter_addrs:\n",
    "    valid_voters.append(sorting_contract.functions.voters(addr).call())"
   ]
  },
  {
   "cell_type": "code",
   "execution_count": 163,
   "metadata": {},
   "outputs": [
    {
     "data": {
      "text/plain": [
       "[[5, False, 'xiaohu'],\n",
       " [5, False, 'dahua'],\n",
       " [5, False, 'dakun'],\n",
       " [5, False, 'alex'],\n",
       " [5, False, 'mofan']]"
      ]
     },
     "execution_count": 163,
     "metadata": {},
     "output_type": "execute_result"
    }
   ],
   "source": [
    "valid_voters"
   ]
  },
  {
   "cell_type": "code",
   "execution_count": 164,
   "metadata": {},
   "outputs": [],
   "source": [
    "#options\n",
    "num_options=sorting_contract.functions.num_options().call()\n",
    "options=[sorting_contract.functions.Options(i).call() for i in range(num_options)]"
   ]
  },
  {
   "cell_type": "code",
   "execution_count": 165,
   "metadata": {},
   "outputs": [
    {
     "data": {
      "text/plain": [
       "['Python', 'Java', 'Javascript']"
      ]
     },
     "execution_count": 165,
     "metadata": {},
     "output_type": "execute_result"
    }
   ],
   "source": [
    "options"
   ]
  },
  {
   "cell_type": "code",
   "execution_count": 166,
   "metadata": {},
   "outputs": [
    {
     "name": "stdout",
     "output_type": "stream",
     "text": [
      "['Python', 5, False, '0x9B9299Bec41F50739F93509A39F86C1eb3BfEb8d']\n",
      "['Java', 5, False, '0xf404332403E11C781C852890DadF116F9A75de97']\n",
      "['Javascript', 5, False, '0x8B47BEC2B77217Fa4F391c56f142245BaD2e03a4']\n"
     ]
    }
   ],
   "source": [
    "#check leaders\n",
    "num_leaders=num_options\n",
    "leader_addrs=[sorting_contract.functions.leader_address(i).call() for i in range(num_leaders)]\n",
    "for addr in leader_addrs:\n",
    "    print(sorting_contract.functions.Leaders(addr).call())"
   ]
  },
  {
   "cell_type": "code",
   "execution_count": 167,
   "metadata": {},
   "outputs": [],
   "source": [
    "res={}\n",
    "for name in voter_names:\n",
    "    for option in options:\n",
    "        res[name+'_'+option]=sorting_contract.functions.voter_option_match(name,option).call()[1]        "
   ]
  },
  {
   "cell_type": "code",
   "execution_count": 168,
   "metadata": {},
   "outputs": [
    {
     "data": {
      "text/plain": [
       "[['xiaohu_Python', 0],\n",
       " ['xiaohu_Java', 0],\n",
       " ['xiaohu_Javascript', 0],\n",
       " ['dahua_Python', 0],\n",
       " ['dahua_Java', 0],\n",
       " ['dahua_Javascript', 0],\n",
       " ['dakun_Python', 0],\n",
       " ['dakun_Java', 0],\n",
       " ['dakun_Javascript', 0],\n",
       " ['alex_Python', 0],\n",
       " ['alex_Java', 0],\n",
       " ['alex_Javascript', 0],\n",
       " ['mofan_Python', 0],\n",
       " ['mofan_Java', 0],\n",
       " ['mofan_Javascript', 0]]"
      ]
     },
     "execution_count": 168,
     "metadata": {},
     "output_type": "execute_result"
    }
   ],
   "source": [
    "[[i,j] for i,j in res.items()]"
   ]
  },
  {
   "cell_type": "code",
   "execution_count": null,
   "metadata": {},
   "outputs": [],
   "source": []
  }
 ],
 "metadata": {
  "kernelspec": {
   "display_name": "Python 3",
   "language": "python",
   "name": "python3"
  },
  "language_info": {
   "codemirror_mode": {
    "name": "ipython",
    "version": 3
   },
   "file_extension": ".py",
   "mimetype": "text/x-python",
   "name": "python",
   "nbconvert_exporter": "python",
   "pygments_lexer": "ipython3",
   "version": "3.6.8"
  }
 },
 "nbformat": 4,
 "nbformat_minor": 2
}
