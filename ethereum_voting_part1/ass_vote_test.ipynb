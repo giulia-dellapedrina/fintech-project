{
 "cells": [
  {
   "cell_type": "code",
   "execution_count": 1,
   "metadata": {},
   "outputs": [],
   "source": [
    "import json\n",
    "from web3 import Web3\n",
    "from solc import compile_source\n",
    "import time"
   ]
  },
  {
   "cell_type": "code",
   "execution_count": 2,
   "metadata": {},
   "outputs": [],
   "source": [
    "w3=Web3(Web3.HTTPProvider(\"HTTP://127.0.0.1:7545\"))"
   ]
  },
  {
   "cell_type": "code",
   "execution_count": 3,
   "metadata": {},
   "outputs": [
    {
     "data": {
      "text/plain": [
       "True"
      ]
     },
     "execution_count": 3,
     "metadata": {},
     "output_type": "execute_result"
    }
   ],
   "source": [
    "w3.isConnected()"
   ]
  },
  {
   "cell_type": "code",
   "execution_count": 4,
   "metadata": {},
   "outputs": [],
   "source": [
    "with open('abi.json','r') as f:\n",
    "    abi=json.load(f)\n",
    "vote_contract=w3.eth.contract(address='0x27d7121996264702A6a9e32D17DEe3c173D2e991',\n",
    "                              abi=abi)"
   ]
  },
  {
   "cell_type": "code",
   "execution_count": 5,
   "metadata": {},
   "outputs": [
    {
     "data": {
      "text/plain": [
       "'0x2b9AeD53bb291430EB1EDAa757F5F7A5D5FB102b'"
      ]
     },
     "execution_count": 5,
     "metadata": {},
     "output_type": "execute_result"
    }
   ],
   "source": [
    "#check the address of contract constructor (who deploy the contract)\n",
    "vote_contract.functions.chairperson().call()"
   ]
  },
  {
   "cell_type": "code",
   "execution_count": 6,
   "metadata": {},
   "outputs": [
    {
     "data": {
      "text/plain": [
       "[['a', 0], ['b', 0], ['c', 0], ['d', 0], ['e', 0]]"
      ]
     },
     "execution_count": 6,
     "metadata": {},
     "output_type": "execute_result"
    }
   ],
   "source": [
    "#check the options ( i just initalize the options with name 'a','b','c','d','e' when i delpoy the contract)\n",
    "num_options=vote_contract.functions.num_options().call()\n",
    "[vote_contract.functions.Options(i).call() for i in range(num_options)]"
   ]
  },
  {
   "cell_type": "code",
   "execution_count": 7,
   "metadata": {},
   "outputs": [
    {
     "data": {
      "text/plain": [
       "HexBytes('0xfd555f3bbe9ec2524a651231949e73402c8cc0cc001d29caa625b8d1c521673c')"
      ]
     },
     "execution_count": 7,
     "metadata": {},
     "output_type": "execute_result"
    }
   ],
   "source": [
    "#now we can call the function Give_right_to_voters to assign points to voters\n",
    "\n",
    "#i assign 5 points for each of the follwing addresses in ganache\n",
    "'''\n",
    "w3.eth.accounts[1]\n",
    "w3.eth.accounts[2]\n",
    "w3.eth.accounts[3]\n",
    "w3.eth.accounts[4]\n",
    "'''\n",
    "# but the assignment must call by the contract constructor (who deploy the contract, here is the just the first one in ganache address list)\n",
    "vote_contract.functions.Give_right_to_voters(w3.eth.accounts[1],5).\\\n",
    "transact(transaction={'from':w3.eth.accounts[0]})\n",
    "\n",
    "vote_contract.functions.Give_right_to_voters(w3.eth.accounts[2],5).\\\n",
    "transact(transaction={'from':w3.eth.accounts[0]})\n",
    "\n",
    "vote_contract.functions.Give_right_to_voters(w3.eth.accounts[3],5).\\\n",
    "transact(transaction={'from':w3.eth.accounts[0]})\n",
    "\n",
    "vote_contract.functions.Give_right_to_voters(w3.eth.accounts[4],5).\\\n",
    "transact(transaction={'from':w3.eth.accounts[0]})"
   ]
  },
  {
   "cell_type": "code",
   "execution_count": 8,
   "metadata": {},
   "outputs": [
    {
     "data": {
      "text/plain": [
       "[[5, False, '0xE1c1f6Bd1514DeF80a6d6fAda69404514bC07658'],\n",
       " [5, False, '0x4d27C17Fa6Fa6e22631CDC5FfdFD096Df083f2C5'],\n",
       " [5, False, '0x3103674A6DA1E2eb4b5d620292AFdD31C21e9310'],\n",
       " [5, False, '0x03154cB81FC547727839305c16a5882e04CD5Be8']]"
      ]
     },
     "execution_count": 8,
     "metadata": {},
     "output_type": "execute_result"
    }
   ],
   "source": [
    "#then since these voters already have the right to vote, they can now use \n",
    "#the browser to vote!\n",
    "\n",
    "#we can check their info\n",
    "num_voters=vote_contract.functions.num_voters().call()\n",
    "all_voters=[vote_contract.functions.Valid_voter_address(i).call() for i in range(num_voters)]\n",
    "\n",
    "[vote_contract.functions.voters(i).call() for i in all_voters ]"
   ]
  },
  {
   "cell_type": "code",
   "execution_count": null,
   "metadata": {},
   "outputs": [],
   "source": []
  }
 ],
 "metadata": {
  "kernelspec": {
   "display_name": "Python 3",
   "language": "python",
   "name": "python3"
  },
  "language_info": {
   "codemirror_mode": {
    "name": "ipython",
    "version": 3
   },
   "file_extension": ".py",
   "mimetype": "text/x-python",
   "name": "python",
   "nbconvert_exporter": "python",
   "pygments_lexer": "ipython3",
   "version": "3.6.8"
  }
 },
 "nbformat": 4,
 "nbformat_minor": 2
}
